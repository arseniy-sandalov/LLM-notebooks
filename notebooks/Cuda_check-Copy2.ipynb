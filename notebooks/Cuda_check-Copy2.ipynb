{
 "cells": [
  {
   "cell_type": "markdown",
   "id": "0a4dd36d-2128-405e-9a43-2bbcb1356da7",
   "metadata": {},
   "source": [
    "#### Change the promting according to the promting of pip-sql-1.3b\n",
    "https://huggingface.co/PipableAI/pip-sql-1.3b\n",
    "\n",
    "#### Go from using langchain sql chain to manual promt template."
   ]
  },
  {
   "cell_type": "code",
   "execution_count": 1,
   "id": "0b66e310-16fa-4ef9-a9d9-4b122eee69ac",
   "metadata": {},
   "outputs": [],
   "source": [
    "from sqlalchemy import create_engine, text\n",
    "from langchain.sql_database import SQLDatabase\n",
    "\n",
    "db_path = '/home/arseniy/Документы/Projects/Python/LLM_project/json-to-sql/mys_db'\n",
    "\n",
    "engine = create_engine ('sqlite:///' + db_path, echo= False, future=True)\n",
    "\n",
    "db = SQLDatabase(engine)\n"
   ]
  },
  {
   "cell_type": "code",
   "execution_count": 2,
   "id": "895a96d1-aba9-4853-b62c-39326928b3e7",
   "metadata": {},
   "outputs": [],
   "source": [
    "from langfuse.callback import CallbackHandler\n",
    "langfuse_handler = CallbackHandler(\n",
    "    public_key=\"key\",\n",
    "    secret_key=\"key\",\n",
    "    host=\"https://cloud.langfuse.com\"\n",
    ")"
   ]
  },
  {
   "cell_type": "code",
   "execution_count": 3,
   "id": "f9750e48-998d-4a39-99a2-d103c94b16c1",
   "metadata": {},
   "outputs": [
    {
     "name": "stderr",
     "output_type": "stream",
     "text": [
      "llama_model_loader: loaded meta data with 28 key-value pairs and 291 tensors from /home/arseniy/Документы/Projects/Python/LLM_project/models/sqlcoder-7b-2.Q4_K_M.gguf (version GGUF V3 (latest))\n",
      "llama_model_loader: Dumping metadata keys/values. Note: KV overrides do not apply in this output.\n",
      "llama_model_loader: - kv   0:                       general.architecture str              = llama\n",
      "llama_model_loader: - kv   1:                               general.name str              = models\n",
      "llama_model_loader: - kv   2:                          llama.block_count u32              = 32\n",
      "llama_model_loader: - kv   3:                       llama.context_length u32              = 16384\n",
      "llama_model_loader: - kv   4:                     llama.embedding_length u32              = 4096\n",
      "llama_model_loader: - kv   5:                  llama.feed_forward_length u32              = 11008\n",
      "llama_model_loader: - kv   6:                 llama.attention.head_count u32              = 32\n",
      "llama_model_loader: - kv   7:              llama.attention.head_count_kv u32              = 32\n",
      "llama_model_loader: - kv   8:                       llama.rope.freq_base f32              = 1000000.000000\n",
      "llama_model_loader: - kv   9:     llama.attention.layer_norm_rms_epsilon f32              = 0.000010\n",
      "llama_model_loader: - kv  10:                          general.file_type u32              = 15\n",
      "llama_model_loader: - kv  11:                           llama.vocab_size u32              = 32016\n",
      "llama_model_loader: - kv  12:                 llama.rope.dimension_count u32              = 128\n",
      "llama_model_loader: - kv  13:                       tokenizer.ggml.model str              = llama\n",
      "llama_model_loader: - kv  14:                         tokenizer.ggml.pre str              = default\n",
      "llama_model_loader: - kv  15:                      tokenizer.ggml.tokens arr[str,32016]   = [\"<unk>\", \"<s>\", \"</s>\", \"<0x00>\", \"<...\n",
      "llama_model_loader: - kv  16:                      tokenizer.ggml.scores arr[f32,32016]   = [0.000000, 0.000000, 0.000000, 0.0000...\n",
      "llama_model_loader: - kv  17:                  tokenizer.ggml.token_type arr[i32,32016]   = [2, 3, 3, 6, 6, 6, 6, 6, 6, 6, 6, 6, ...\n",
      "llama_model_loader: - kv  18:                tokenizer.ggml.bos_token_id u32              = 1\n",
      "llama_model_loader: - kv  19:                tokenizer.ggml.eos_token_id u32              = 2\n",
      "llama_model_loader: - kv  20:            tokenizer.ggml.unknown_token_id u32              = 0\n",
      "llama_model_loader: - kv  21:               tokenizer.ggml.add_bos_token bool             = true\n",
      "llama_model_loader: - kv  22:               tokenizer.ggml.add_eos_token bool             = false\n",
      "llama_model_loader: - kv  23:             tokenizer.ggml.prefix_token_id u32              = 32007\n",
      "llama_model_loader: - kv  24:             tokenizer.ggml.suffix_token_id u32              = 32008\n",
      "llama_model_loader: - kv  25:             tokenizer.ggml.middle_token_id u32              = 32009\n",
      "llama_model_loader: - kv  26:                tokenizer.ggml.eot_token_id u32              = 32010\n",
      "llama_model_loader: - kv  27:               general.quantization_version u32              = 2\n",
      "llama_model_loader: - type  f32:   65 tensors\n",
      "llama_model_loader: - type q4_K:  193 tensors\n",
      "llama_model_loader: - type q6_K:   33 tensors\n",
      "llm_load_vocab: special tokens cache size = 259\n",
      "llm_load_vocab: token to piece cache size = 0.1686 MB\n",
      "llm_load_print_meta: format           = GGUF V3 (latest)\n",
      "llm_load_print_meta: arch             = llama\n",
      "llm_load_print_meta: vocab type       = SPM\n",
      "llm_load_print_meta: n_vocab          = 32016\n",
      "llm_load_print_meta: n_merges         = 0\n",
      "llm_load_print_meta: vocab_only       = 0\n",
      "llm_load_print_meta: n_ctx_train      = 16384\n",
      "llm_load_print_meta: n_embd           = 4096\n",
      "llm_load_print_meta: n_layer          = 32\n",
      "llm_load_print_meta: n_head           = 32\n",
      "llm_load_print_meta: n_head_kv        = 32\n",
      "llm_load_print_meta: n_rot            = 128\n",
      "llm_load_print_meta: n_swa            = 0\n",
      "llm_load_print_meta: n_embd_head_k    = 128\n",
      "llm_load_print_meta: n_embd_head_v    = 128\n",
      "llm_load_print_meta: n_gqa            = 1\n",
      "llm_load_print_meta: n_embd_k_gqa     = 4096\n",
      "llm_load_print_meta: n_embd_v_gqa     = 4096\n",
      "llm_load_print_meta: f_norm_eps       = 0.0e+00\n",
      "llm_load_print_meta: f_norm_rms_eps   = 1.0e-05\n",
      "llm_load_print_meta: f_clamp_kqv      = 0.0e+00\n",
      "llm_load_print_meta: f_max_alibi_bias = 0.0e+00\n",
      "llm_load_print_meta: f_logit_scale    = 0.0e+00\n",
      "llm_load_print_meta: n_ff             = 11008\n",
      "llm_load_print_meta: n_expert         = 0\n",
      "llm_load_print_meta: n_expert_used    = 0\n",
      "llm_load_print_meta: causal attn      = 1\n",
      "llm_load_print_meta: pooling type     = 0\n",
      "llm_load_print_meta: rope type        = 0\n",
      "llm_load_print_meta: rope scaling     = linear\n",
      "llm_load_print_meta: freq_base_train  = 1000000.0\n",
      "llm_load_print_meta: freq_scale_train = 1\n",
      "llm_load_print_meta: n_ctx_orig_yarn  = 16384\n",
      "llm_load_print_meta: rope_finetuned   = unknown\n",
      "llm_load_print_meta: ssm_d_conv       = 0\n",
      "llm_load_print_meta: ssm_d_inner      = 0\n",
      "llm_load_print_meta: ssm_d_state      = 0\n",
      "llm_load_print_meta: ssm_dt_rank      = 0\n",
      "llm_load_print_meta: model type       = 7B\n",
      "llm_load_print_meta: model ftype      = Q4_K - Medium\n",
      "llm_load_print_meta: model params     = 6.74 B\n",
      "llm_load_print_meta: model size       = 3.80 GiB (4.84 BPW) \n",
      "llm_load_print_meta: general.name     = models\n",
      "llm_load_print_meta: BOS token        = 1 '<s>'\n",
      "llm_load_print_meta: EOS token        = 2 '</s>'\n",
      "llm_load_print_meta: UNK token        = 0 '<unk>'\n",
      "llm_load_print_meta: LF token         = 13 '<0x0A>'\n",
      "llm_load_print_meta: PRE token        = 32007 '▁<PRE>'\n",
      "llm_load_print_meta: SUF token        = 32008 '▁<SUF>'\n",
      "llm_load_print_meta: MID token        = 32009 '▁<MID>'\n",
      "llm_load_print_meta: EOT token        = 32010 '▁<EOT>'\n",
      "llm_load_print_meta: max token length = 48\n",
      "llm_load_tensors: ggml ctx size =    0.14 MiB\n",
      "llm_load_tensors:        CPU buffer size =  3891.33 MiB\n",
      "warning: failed to mlock 74510336-byte buffer (after previously locking 0 bytes): Cannot allocate memory\n",
      "Try increasing RLIMIT_MEMLOCK ('ulimit -l' as root).\n",
      "..................................................................................................\n",
      "llama_new_context_with_model: n_batch is less than GGML_KQ_MASK_PAD - increasing to 32\n",
      "llama_new_context_with_model: n_ctx      = 2016\n",
      "llama_new_context_with_model: n_batch    = 32\n",
      "llama_new_context_with_model: n_ubatch   = 32\n",
      "llama_new_context_with_model: flash_attn = 0\n",
      "llama_new_context_with_model: freq_base  = 10000.0\n",
      "llama_new_context_with_model: freq_scale = 1\n",
      "llama_kv_cache_init:        CPU KV buffer size =  1008.00 MiB\n",
      "llama_new_context_with_model: KV self size  = 1008.00 MiB, K (f16):  504.00 MiB, V (f16):  504.00 MiB\n",
      "llama_new_context_with_model:        CPU  output buffer size =     0.12 MiB\n",
      "llama_new_context_with_model:        CPU compute buffer size =    10.12 MiB\n",
      "llama_new_context_with_model: graph nodes  = 1030\n",
      "llama_new_context_with_model: graph splits = 1\n",
      "AVX = 1 | AVX_VNNI = 0 | AVX2 = 1 | AVX512 = 0 | AVX512_VBMI = 0 | AVX512_VNNI = 0 | AVX512_BF16 = 0 | FMA = 1 | NEON = 0 | SVE = 0 | ARM_FMA = 0 | F16C = 1 | FP16_VA = 0 | WASM_SIMD = 0 | BLAS = 0 | SSE3 = 1 | SSSE3 = 1 | VSX = 0 | MATMUL_INT8 = 0 | LLAMAFILE = 0 | \n",
      "Model metadata: {'tokenizer.ggml.eot_token_id': '32010', 'tokenizer.ggml.middle_token_id': '32009', 'tokenizer.ggml.prefix_token_id': '32007', 'tokenizer.ggml.suffix_token_id': '32008', 'tokenizer.ggml.add_eos_token': 'false', 'tokenizer.ggml.unknown_token_id': '0', 'tokenizer.ggml.eos_token_id': '2', 'general.quantization_version': '2', 'tokenizer.ggml.model': 'llama', 'general.architecture': 'llama', 'llama.rope.freq_base': '1000000.000000', 'tokenizer.ggml.pre': 'default', 'llama.context_length': '16384', 'general.name': 'models', 'tokenizer.ggml.add_bos_token': 'true', 'llama.embedding_length': '4096', 'llama.feed_forward_length': '11008', 'llama.attention.layer_norm_rms_epsilon': '0.000010', 'tokenizer.ggml.bos_token_id': '1', 'llama.attention.head_count': '32', 'llama.block_count': '32', 'llama.attention.head_count_kv': '32', 'general.file_type': '15', 'llama.vocab_size': '32016', 'llama.rope.dimension_count': '128'}\n",
      "Using fallback chat format: llama-2\n"
     ]
    }
   ],
   "source": [
    "from langchain_community.chat_models import ChatLlamaCpp \n",
    "from langchain_community.llms import LlamaCpp\n",
    "from langchain_core.callbacks import CallbackManager, StreamingStdOutCallbackHandler\n",
    "import multiprocessing\n",
    "from langchain.globals import set_llm_cache\n",
    "# Path to the model weights\n",
    "models_directory = '/home/arseniy/Документы/Projects/Python/LLM_project/models/'\n",
    "\n",
    "local_model = models_directory + 'sqlcoder-7b-2.Q4_K_M.gguf' \n",
    "\n",
    "\n",
    "llm = ChatLlamaCpp(\n",
    "    cache = True,\n",
    "    model_path = local_model,\n",
    "    n_ctx=2000,\n",
    "    n_gpu_layers=10,\n",
    "    use_mlock = True,\n",
    "    versbose = True,\n",
    "    \n",
    "\n",
    ")\n"
   ]
  },
  {
   "cell_type": "code",
   "execution_count": 4,
   "id": "704695ff-cb32-4574-85b0-8ce8e0d2243e",
   "metadata": {},
   "outputs": [],
   "source": [
    "from operator import itemgetter\n",
    "from langchain_core.prompts import PromptTemplate\n",
    "from langchain_core.runnables import RunnablePassthrough\n",
    "from langchain_core.output_parsers import StrOutputParser\n",
    "from langchain_community.tools.sql_database.tool import QuerySQLDataBaseTool\n",
    "from langchain.chains import LLMChain"
   ]
  },
  {
   "cell_type": "code",
   "execution_count": 5,
   "id": "a97af70e-7394-4bcb-8cfa-ebfad8fc5a9b",
   "metadata": {},
   "outputs": [],
   "source": [
    "with open('mys_schema_copy.txt', 'r') as file:\n",
    "    description = file.read()\n"
   ]
  },
  {
   "cell_type": "code",
   "execution_count": 6,
   "id": "590a0f95-c511-4f7c-8d31-ae5a23631448",
   "metadata": {},
   "outputs": [],
   "source": [
    "schema = description\n",
    "question = \"\"\n",
    "\n",
    "# Define the prompt template using f-string\n",
    "\n",
    "template =  \"\"\"\n",
    "                Generate a SQL query to answer [QUESTION]{question}[/QUESTION]\n",
    "                \n",
    "                The query will run on a database with the following schema:\n",
    "                {schema}\n",
    "                \n",
    "                Given the database schema, here is the SQL query that [QUESTION]{question}[/QUESTION]\n",
    "                [SQL]\n",
    "            \"\"\"\n",
    "# Initialize the prompt template with placeholders for 'schema' and 'question'\n",
    "prompt_template = PromptTemplate.from_template(template)\n"
   ]
  },
  {
   "cell_type": "markdown",
   "id": "0246197d-ff7f-41c4-badd-23b9b2b96de1",
   "metadata": {},
   "source": [
    "### https://python.langchain.com/v0.2/docs/integrations/llm_caching/"
   ]
  },
  {
   "cell_type": "code",
   "execution_count": 7,
   "id": "4ba43042-6a4e-40d7-b970-536da1bcb691",
   "metadata": {},
   "outputs": [
    {
     "name": "stderr",
     "output_type": "stream",
     "text": [
      "/home/arseniy/.var/app/org.jupyter.JupyterLab/config/jupyterlab-desktop/jlab_server/envs/openai/lib/python3.12/site-packages/langchain_core/_api/deprecation.py:139: LangChainDeprecationWarning: The class `LLMChain` was deprecated in LangChain 0.1.17 and will be removed in 1.0. Use RunnableSequence, e.g., `prompt | llm` instead.\n",
      "  warn_deprecated(\n"
     ]
    }
   ],
   "source": [
    "chain = LLMChain(prompt=prompt_template, llm=llm)"
   ]
  },
  {
   "cell_type": "code",
   "execution_count": 8,
   "id": "bc2984de-42ec-41e9-97b3-6ea6826ed86a",
   "metadata": {},
   "outputs": [],
   "source": [
    "from langchain.cache import InMemoryCache\n",
    "\n",
    "set_llm_cache(InMemoryCache())"
   ]
  },
  {
   "cell_type": "code",
   "execution_count": null,
   "id": "f37928f1-446f-4689-b0eb-80b3d9213e88",
   "metadata": {},
   "outputs": [
    {
     "name": "stdout",
     "output_type": "stream",
     "text": [
      "🔴 Simple database chatbot app. Type 'exit' to quit.\n"
     ]
    },
    {
     "name": "stdin",
     "output_type": "stream",
     "text": [
      "🟢 Enter your question:  show me names of employees with id 34,22 and 34\n"
     ]
    },
    {
     "name": "stderr",
     "output_type": "stream",
     "text": [
      "Llama.generate: prefix-match hit\n",
      "\n",
      "llama_print_timings:        load time =     550.61 ms\n",
      "llama_print_timings:      sample time =      10.78 ms /    26 runs   (    0.41 ms per token,  2411.65 tokens per second)\n",
      "llama_print_timings: prompt eval time =   56644.40 ms /   710 tokens (   79.78 ms per token,    12.53 tokens per second)\n",
      "llama_print_timings:        eval time =    4125.48 ms /    25 runs   (  165.02 ms per token,     6.06 tokens per second)\n",
      "llama_print_timings:       total time =   60803.95 ms /   735 tokens\n"
     ]
    },
    {
     "name": "stdout",
     "output_type": "stream",
     "text": [
      "Response:   SELECT e.name FROM employees e WHERE e.id IN (34, 22, 34);\n"
     ]
    }
   ],
   "source": [
    "import sqlvalidator\n",
    "import sqlcorrect as sc\n",
    "\n",
    "def main():\n",
    "    print(\"🔴 Simple database chatbot app. Type 'exit' to quit.\")\n",
    "    while True:\n",
    "        # Get user input\n",
    "        question = input(\"🟢 Enter your question: \")\n",
    "        if question.lower() == 'exit':\n",
    "            print(\"Exiting the app.\")\n",
    "            break \n",
    "\n",
    "        response = chain.run(question = question, schema=description)\n",
    "        try:            \n",
    "            print(\"Response:\", response) \n",
    "        except:\n",
    "            print(\"🔴 LLM agent gave a wrong SQL query. Paraphrase the question...\")\n",
    "        \n",
    "\n",
    "if __name__ == \"__main__\":\n",
    "    main()"
   ]
  },
  {
   "cell_type": "markdown",
   "id": "1e2f18d0-40cb-4bed-9001-02f305cb4b37",
   "metadata": {},
   "source": [
    "#### Classify related table names with smaller model -> query the database with related names -> pass table schemas to the sqlcoder.\n",
    "#### Think about using cache, especially redis db as cache."
   ]
  },
  {
   "cell_type": "code",
   "execution_count": null,
   "id": "0f6f3b3e-6222-4478-b2d1-48c0f3985d6d",
   "metadata": {},
   "outputs": [],
   "source": []
  }
 ],
 "metadata": {
  "kernelspec": {
   "display_name": "Python 3 (ipykernel)",
   "language": "python",
   "name": "python3"
  },
  "language_info": {
   "codemirror_mode": {
    "name": "ipython",
    "version": 3
   },
   "file_extension": ".py",
   "mimetype": "text/x-python",
   "name": "python",
   "nbconvert_exporter": "python",
   "pygments_lexer": "ipython3",
   "version": "3.12.3"
  }
 },
 "nbformat": 4,
 "nbformat_minor": 5
}
