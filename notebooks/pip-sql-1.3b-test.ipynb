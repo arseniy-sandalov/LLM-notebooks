{
 "cells": [
  {
   "cell_type": "markdown",
   "id": "2e40786f-dc9a-47af-96fa-eb985565d353",
   "metadata": {},
   "source": [
    "#### Find smaller model for classification.\n",
    "#### Think about generating dataset for fine-tunning"
   ]
  },
  {
   "cell_type": "code",
   "execution_count": 1,
   "id": "6fd5a775-75bd-4f2f-8928-dced76358b36",
   "metadata": {},
   "outputs": [],
   "source": [
    "from langfuse.callback import CallbackHandler\n",
    "langfuse_handler = CallbackHandler(\n",
    "    public_key=\"key\",\n",
    "    secret_key=\"key\",\n",
    "    host=\"https://cloud.langfuse.com\"\n",
    ")"
   ]
  },
  {
   "cell_type": "code",
   "execution_count": 2,
   "id": "da740fea-5a57-4155-b64a-65626d860649",
   "metadata": {},
   "outputs": [
    {
     "name": "stderr",
     "output_type": "stream",
     "text": [
      "/home/arseniy/.var/app/org.jupyter.JupyterLab/config/jupyterlab-desktop/jlab_server/envs/llamaCuda/lib/python3.12/site-packages/tqdm/auto.py:21: TqdmWarning: IProgress not found. Please update jupyter and ipywidgets. See https://ipywidgets.readthedocs.io/en/stable/user_install.html\n",
      "  from .autonotebook import tqdm as notebook_tqdm\n",
      "llama_model_loader: loaded meta data with 28 key-value pairs and 291 tensors from /home/arseniy/Документы/Projects/Python/LLM_project/models/sqlcoder-7b-2.Q4_K_M.gguf (version GGUF V3 (latest))\n",
      "llama_model_loader: Dumping metadata keys/values. Note: KV overrides do not apply in this output.\n",
      "llama_model_loader: - kv   0:                       general.architecture str              = llama\n",
      "llama_model_loader: - kv   1:                               general.name str              = models\n",
      "llama_model_loader: - kv   2:                          llama.block_count u32              = 32\n",
      "llama_model_loader: - kv   3:                       llama.context_length u32              = 16384\n",
      "llama_model_loader: - kv   4:                     llama.embedding_length u32              = 4096\n",
      "llama_model_loader: - kv   5:                  llama.feed_forward_length u32              = 11008\n",
      "llama_model_loader: - kv   6:                 llama.attention.head_count u32              = 32\n",
      "llama_model_loader: - kv   7:              llama.attention.head_count_kv u32              = 32\n",
      "llama_model_loader: - kv   8:                       llama.rope.freq_base f32              = 1000000.000000\n",
      "llama_model_loader: - kv   9:     llama.attention.layer_norm_rms_epsilon f32              = 0.000010\n",
      "llama_model_loader: - kv  10:                          general.file_type u32              = 15\n",
      "llama_model_loader: - kv  11:                           llama.vocab_size u32              = 32016\n",
      "llama_model_loader: - kv  12:                 llama.rope.dimension_count u32              = 128\n",
      "llama_model_loader: - kv  13:                       tokenizer.ggml.model str              = llama\n",
      "llama_model_loader: - kv  14:                         tokenizer.ggml.pre str              = default\n",
      "llama_model_loader: - kv  15:                      tokenizer.ggml.tokens arr[str,32016]   = [\"<unk>\", \"<s>\", \"</s>\", \"<0x00>\", \"<...\n",
      "llama_model_loader: - kv  16:                      tokenizer.ggml.scores arr[f32,32016]   = [0.000000, 0.000000, 0.000000, 0.0000...\n",
      "llama_model_loader: - kv  17:                  tokenizer.ggml.token_type arr[i32,32016]   = [2, 3, 3, 6, 6, 6, 6, 6, 6, 6, 6, 6, ...\n",
      "llama_model_loader: - kv  18:                tokenizer.ggml.bos_token_id u32              = 1\n",
      "llama_model_loader: - kv  19:                tokenizer.ggml.eos_token_id u32              = 2\n",
      "llama_model_loader: - kv  20:            tokenizer.ggml.unknown_token_id u32              = 0\n",
      "llama_model_loader: - kv  21:               tokenizer.ggml.add_bos_token bool             = true\n",
      "llama_model_loader: - kv  22:               tokenizer.ggml.add_eos_token bool             = false\n",
      "llama_model_loader: - kv  23:             tokenizer.ggml.prefix_token_id u32              = 32007\n",
      "llama_model_loader: - kv  24:             tokenizer.ggml.suffix_token_id u32              = 32008\n",
      "llama_model_loader: - kv  25:             tokenizer.ggml.middle_token_id u32              = 32009\n",
      "llama_model_loader: - kv  26:                tokenizer.ggml.eot_token_id u32              = 32010\n",
      "llama_model_loader: - kv  27:               general.quantization_version u32              = 2\n",
      "llama_model_loader: - type  f32:   65 tensors\n",
      "llama_model_loader: - type q4_K:  193 tensors\n",
      "llama_model_loader: - type q6_K:   33 tensors\n",
      "llm_load_vocab: special tokens cache size = 3\n",
      "llm_load_vocab: token to piece cache size = 0.1686 MB\n",
      "llm_load_print_meta: format           = GGUF V3 (latest)\n",
      "llm_load_print_meta: arch             = llama\n",
      "llm_load_print_meta: vocab type       = SPM\n",
      "llm_load_print_meta: n_vocab          = 32016\n",
      "llm_load_print_meta: n_merges         = 0\n",
      "llm_load_print_meta: vocab_only       = 0\n",
      "llm_load_print_meta: n_ctx_train      = 16384\n",
      "llm_load_print_meta: n_embd           = 4096\n",
      "llm_load_print_meta: n_layer          = 32\n",
      "llm_load_print_meta: n_head           = 32\n",
      "llm_load_print_meta: n_head_kv        = 32\n",
      "llm_load_print_meta: n_rot            = 128\n",
      "llm_load_print_meta: n_swa            = 0\n",
      "llm_load_print_meta: n_embd_head_k    = 128\n",
      "llm_load_print_meta: n_embd_head_v    = 128\n",
      "llm_load_print_meta: n_gqa            = 1\n",
      "llm_load_print_meta: n_embd_k_gqa     = 4096\n",
      "llm_load_print_meta: n_embd_v_gqa     = 4096\n",
      "llm_load_print_meta: f_norm_eps       = 0.0e+00\n",
      "llm_load_print_meta: f_norm_rms_eps   = 1.0e-05\n",
      "llm_load_print_meta: f_clamp_kqv      = 0.0e+00\n",
      "llm_load_print_meta: f_max_alibi_bias = 0.0e+00\n",
      "llm_load_print_meta: f_logit_scale    = 0.0e+00\n",
      "llm_load_print_meta: n_ff             = 11008\n",
      "llm_load_print_meta: n_expert         = 0\n",
      "llm_load_print_meta: n_expert_used    = 0\n",
      "llm_load_print_meta: causal attn      = 1\n",
      "llm_load_print_meta: pooling type     = 0\n",
      "llm_load_print_meta: rope type        = 0\n",
      "llm_load_print_meta: rope scaling     = linear\n",
      "llm_load_print_meta: freq_base_train  = 1000000.0\n",
      "llm_load_print_meta: freq_scale_train = 1\n",
      "llm_load_print_meta: n_ctx_orig_yarn  = 16384\n",
      "llm_load_print_meta: rope_finetuned   = unknown\n",
      "llm_load_print_meta: ssm_d_conv       = 0\n",
      "llm_load_print_meta: ssm_d_inner      = 0\n",
      "llm_load_print_meta: ssm_d_state      = 0\n",
      "llm_load_print_meta: ssm_dt_rank      = 0\n",
      "llm_load_print_meta: model type       = 7B\n",
      "llm_load_print_meta: model ftype      = Q4_K - Medium\n",
      "llm_load_print_meta: model params     = 6.74 B\n",
      "llm_load_print_meta: model size       = 3.80 GiB (4.84 BPW) \n",
      "llm_load_print_meta: general.name     = models\n",
      "llm_load_print_meta: BOS token        = 1 '<s>'\n",
      "llm_load_print_meta: EOS token        = 2 '</s>'\n",
      "llm_load_print_meta: UNK token        = 0 '<unk>'\n",
      "llm_load_print_meta: LF token         = 13 '<0x0A>'\n",
      "llm_load_print_meta: PRE token        = 32007 '▁<PRE>'\n",
      "llm_load_print_meta: SUF token        = 32008 '▁<SUF>'\n",
      "llm_load_print_meta: MID token        = 32009 '▁<MID>'\n",
      "llm_load_print_meta: EOT token        = 32010 '▁<EOT>'\n",
      "llm_load_print_meta: max token length = 48\n",
      "ggml_cuda_init: failed to initialize CUDA: unknown error\n",
      "llm_load_tensors: ggml ctx size =    0.14 MiB\n",
      "llm_load_tensors: offloading 32 repeating layers to GPU\n",
      "llm_load_tensors: offloading non-repeating layers to GPU\n",
      "llm_load_tensors: offloaded 33/33 layers to GPU\n",
      "llm_load_tensors:        CPU buffer size =  3891.33 MiB\n",
      "warning: failed to mlock 74510336-byte buffer (after previously locking 0 bytes): Cannot allocate memory\n",
      "Try increasing RLIMIT_MEMLOCK ('ulimit -l' as root).\n",
      "..................................................................................................\n",
      "llama_new_context_with_model: n_batch is less than GGML_KQ_MASK_PAD - increasing to 32\n",
      "llama_new_context_with_model: n_ctx      = 3520\n",
      "llama_new_context_with_model: n_batch    = 32\n",
      "llama_new_context_with_model: n_ubatch   = 32\n",
      "llama_new_context_with_model: flash_attn = 0\n",
      "llama_new_context_with_model: freq_base  = 10000.0\n",
      "llama_new_context_with_model: freq_scale = 1\n",
      "ggml_cuda_host_malloc: failed to allocate 1760.00 MiB of pinned memory: unknown error\n",
      "llama_kv_cache_init:        CPU KV buffer size =  1760.00 MiB\n",
      "llama_new_context_with_model: KV self size  = 1760.00 MiB, K (f16):  880.00 MiB, V (f16):  880.00 MiB\n",
      "ggml_cuda_host_malloc: failed to allocate 0.12 MiB of pinned memory: unknown error\n",
      "llama_new_context_with_model:        CPU  output buffer size =     0.12 MiB\n",
      "ggml_cuda_host_malloc: failed to allocate 16.18 MiB of pinned memory: unknown error\n",
      "llama_new_context_with_model:  CUDA_Host compute buffer size =    16.18 MiB\n",
      "llama_new_context_with_model: graph nodes  = 1030\n",
      "llama_new_context_with_model: graph splits = 1\n",
      "AVX = 1 | AVX_VNNI = 0 | AVX2 = 1 | AVX512 = 0 | AVX512_VBMI = 0 | AVX512_VNNI = 0 | AVX512_BF16 = 0 | FMA = 1 | NEON = 0 | SVE = 0 | ARM_FMA = 0 | F16C = 1 | FP16_VA = 0 | WASM_SIMD = 0 | BLAS = 1 | SSE3 = 1 | SSSE3 = 1 | VSX = 0 | MATMUL_INT8 = 0 | LLAMAFILE = 1 | \n",
      "Model metadata: {'tokenizer.ggml.eot_token_id': '32010', 'tokenizer.ggml.middle_token_id': '32009', 'tokenizer.ggml.prefix_token_id': '32007', 'tokenizer.ggml.suffix_token_id': '32008', 'tokenizer.ggml.add_eos_token': 'false', 'tokenizer.ggml.unknown_token_id': '0', 'tokenizer.ggml.eos_token_id': '2', 'general.quantization_version': '2', 'tokenizer.ggml.model': 'llama', 'general.architecture': 'llama', 'llama.rope.freq_base': '1000000.000000', 'tokenizer.ggml.pre': 'default', 'llama.context_length': '16384', 'general.name': 'models', 'tokenizer.ggml.add_bos_token': 'true', 'llama.embedding_length': '4096', 'llama.feed_forward_length': '11008', 'llama.attention.layer_norm_rms_epsilon': '0.000010', 'tokenizer.ggml.bos_token_id': '1', 'llama.attention.head_count': '32', 'llama.block_count': '32', 'llama.attention.head_count_kv': '32', 'general.file_type': '15', 'llama.vocab_size': '32016', 'llama.rope.dimension_count': '128'}\n",
      "Using fallback chat format: llama-2\n"
     ]
    }
   ],
   "source": [
    "from langchain_community.chat_models import ChatLlamaCpp \n",
    "from langchain_community.llms import LlamaCpp\n",
    "from langchain.chains import LLMChain\n",
    "from langchain_core.prompts import PromptTemplate\n",
    "from langchain_core.callbacks import CallbackManager, StreamingStdOutCallbackHandler\n",
    "from transformers import AutoModelForCausalLM, AutoTokenizer\n",
    "\n",
    "callback_manager = CallbackManager([StreamingStdOutCallbackHandler()])\n",
    "\n",
    "# Path to the model weights\n",
    "models_directory = '/home/arseniy/Документы/Projects/Python/LLM_project/models/'\n",
    "\n",
    "local_model = models_directory + 'sqlcoder-7b-2.Q4_K_M.gguf' \n",
    "\n",
    "llm = ChatLlamaCpp(\n",
    "    temperature = 0.1,\n",
    "    #cache = True,\n",
    "    model_path = local_model,\n",
    "    n_ctx=3500,\n",
    "    #top_k = 10,\n",
    "    n_gpu_layers=33,\n",
    "    use_mlock = True,\n",
    "    #tokenizer = AutoTokenizer.from_pretrained(\"PipableAI/pip-sql-1.3b\"),\n",
    "    versbose = True,\n",
    "    callback_manager=callback_manager, \n",
    "\n",
    ")\n"
   ]
  },
  {
   "cell_type": "code",
   "execution_count": 3,
   "id": "ade065f9-596d-4fef-b386-df2cf7a445ab",
   "metadata": {},
   "outputs": [],
   "source": [
    "with open('/home/arseniy/Документы/Projects/Python/LLM_project/db_files/raw-small.txt', 'r') as file:\n",
    "    schema = file.read()"
   ]
  },
  {
   "cell_type": "code",
   "execution_count": 4,
   "id": "089da8f0-dfaf-4ee3-89e7-2297efe2c757",
   "metadata": {},
   "outputs": [],
   "source": [
    "pip_template = \"\"\"<schema>{schema}</schema>\n",
    "<question>{question}</question>\n",
    "<sql>\"\"\"\n",
    "\n",
    "sqlcoder_template = '''\n",
    "Generate a SQL query to answer [QUESTION]{question}[/QUESTION]\n",
    "\n",
    "### Database Schema\n",
    "The query will run on a database with the following schema:\n",
    "{schema}\n",
    "\n",
    "### Answer\n",
    "Given the database schema, here is the SQL query that [QUESTION]{question}[/QUESTION]\n",
    "[SQL]\n",
    "\n",
    "'''\n",
    "prompt_template = PromptTemplate.from_template(sqlcoder_template)\n"
   ]
  },
  {
   "cell_type": "code",
   "execution_count": 5,
   "id": "78b3b98d-c4d4-4526-a81d-fdac324e9cf6",
   "metadata": {
    "scrolled": true
   },
   "outputs": [
    {
     "name": "stderr",
     "output_type": "stream",
     "text": [
      "/home/arseniy/.var/app/org.jupyter.JupyterLab/config/jupyterlab-desktop/jlab_server/envs/llamaCuda/lib/python3.12/site-packages/langchain_core/_api/deprecation.py:139: LangChainDeprecationWarning: The class `LLMChain` was deprecated in LangChain 0.1.17 and will be removed in 1.0. Use RunnableSequence, e.g., `prompt | llm` instead.\n",
      "  warn_deprecated(\n"
     ]
    }
   ],
   "source": [
    "chain = LLMChain(prompt=prompt_template, llm=llm)"
   ]
  },
  {
   "cell_type": "code",
   "execution_count": 6,
   "id": "dc125abf-f710-4888-94b3-874486ebe95c",
   "metadata": {},
   "outputs": [
    {
     "name": "stdout",
     "output_type": "stream",
     "text": [
      "🔴 Simple database chatbot app. Type 'exit' to quit.\n"
     ]
    },
    {
     "name": "stdin",
     "output_type": "stream",
     "text": [
      "🟢 Enter your question:  what is the amount of projects done by emoloyee with id 5\n"
     ]
    },
    {
     "name": "stderr",
     "output_type": "stream",
     "text": [
      "Langfuse was not able to parse the LLM model. The LLM call will be recorded without model name. Please create an issue so we can fix your integration: https://github.com/langfuse/langfuse/issues/new/choose\n"
     ]
    },
    {
     "name": "stdout",
     "output_type": "stream",
     "text": [
      " SELECT COUNT(p.id) AS project_count FROM employees e JOIN \"mysProjects\" p ON e.id = p.employee_id WHERE e.id = 5;"
     ]
    },
    {
     "name": "stderr",
     "output_type": "stream",
     "text": [
      "\n",
      "llama_print_timings:        load time =     550.76 ms\n",
      "llama_print_timings:      sample time =      27.41 ms /    39 runs   (    0.70 ms per token,  1423.10 tokens per second)\n",
      "llama_print_timings: prompt eval time =   27222.11 ms /   407 tokens (   66.88 ms per token,    14.95 tokens per second)\n",
      "llama_print_timings:        eval time =    6196.81 ms /    38 runs   (  163.07 ms per token,     6.13 tokens per second)\n",
      "llama_print_timings:       total time =   33551.11 ms /   445 tokens\n"
     ]
    },
    {
     "name": "stdin",
     "output_type": "stream",
     "text": [
      "🟢 Enter your question:  exit\n"
     ]
    },
    {
     "name": "stdout",
     "output_type": "stream",
     "text": [
      "Exiting the app.\n"
     ]
    }
   ],
   "source": [
    "import sqlvalidator\n",
    "import sqlcorrect as sc\n",
    "\n",
    "def main():\n",
    "    print(\"🔴 Simple database chatbot app. Type 'exit' to quit.\")\n",
    "    while True:\n",
    "        # Get user input\n",
    "        question = input(\"🟢 Enter your question: \")\n",
    "        if question.lower() == 'exit':\n",
    "            print(\"Exiting the app.\")\n",
    "            break \n",
    "\n",
    "        #response = chain.run(schema=description, prompt = question)\n",
    "        response = chain.invoke({\"schema\": schema, \"question\": question},config={\"callbacks\": [langfuse_handler]})\n",
    "        \n",
    "\n",
    "if __name__ == \"__main__\":\n",
    "    main()"
   ]
  },
  {
   "cell_type": "code",
   "execution_count": null,
   "id": "b337d435-bef5-4e61-80e4-58f9db541277",
   "metadata": {},
   "outputs": [],
   "source": []
  }
 ],
 "metadata": {
  "kernelspec": {
   "display_name": "Python 3 (ipykernel)",
   "language": "python",
   "name": "python3"
  },
  "language_info": {
   "codemirror_mode": {
    "name": "ipython",
    "version": 3
   },
   "file_extension": ".py",
   "mimetype": "text/x-python",
   "name": "python",
   "nbconvert_exporter": "python",
   "pygments_lexer": "ipython3",
   "version": "3.12.3"
  }
 },
 "nbformat": 4,
 "nbformat_minor": 5
}
